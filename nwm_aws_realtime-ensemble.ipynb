{
 "cells": [
  {
   "cell_type": "code",
   "execution_count": 1,
   "id": "a6e18f10",
   "metadata": {},
   "outputs": [],
   "source": [
    "import os\n",
    "import fsspec\n",
    "from datetime import datetime, timedelta\n",
    "\n",
    "import orjson\n",
    "from kerchunk.hdf import SingleHdf5ToZarr \n",
    "from kerchunk.combine import MultiZarrToZarr\n",
    "import xarray as xr\n",
    "import dask\n",
    "\n",
    "from pathlib import Path\n",
    "import numpy as np\n",
    "\n",
    "import matplotlib.pyplot as plt\n",
    "import pandas as pd\n",
    "import geopandas as gpd\n",
    "\n",
    "import matplotlib as mpl\n",
    "import matplotlib.style as mplstyle\n",
    "from glob import glob\n",
    "\n",
    "import matplotlib.dates as mdates\n",
    "from multiprocessing import Pool\n",
    "\n",
    "import cv2\n",
    "import imutils"
   ]
  },
  {
   "cell_type": "markdown",
   "id": "a5d55e36",
   "metadata": {},
   "source": [
    "## Enter model run hour (00, 06, 12, 18)"
   ]
  },
  {
   "cell_type": "code",
   "execution_count": 2,
   "id": "ba767fbd",
   "metadata": {},
   "outputs": [],
   "source": [
    "hourlyrun='00'"
   ]
  },
  {
   "cell_type": "markdown",
   "id": "e5d28c4f",
   "metadata": {},
   "source": [
    "# Prepare to create the json files - one for each netcdf file"
   ]
  },
  {
   "cell_type": "code",
   "execution_count": 3,
   "id": "8f679b34",
   "metadata": {},
   "outputs": [],
   "source": [
    "fs = fsspec.filesystem('s3', anon='True', skip_instance_cache=True)"
   ]
  },
  {
   "cell_type": "code",
   "execution_count": 4,
   "id": "6b9c2162",
   "metadata": {},
   "outputs": [],
   "source": [
    "latest = sorted(fs.glob('s3://noaa-nwm-pds/nwm*'))[-1]"
   ]
  },
  {
   "cell_type": "code",
   "execution_count": 5,
   "id": "8a7ce56d",
   "metadata": {},
   "outputs": [],
   "source": [
    "urls1 = sorted(fs.glob(f's3://{latest}/medium_range_mem1/nwm.t{hourlyrun}z.medium_range.channel*.nc'))\n",
    "urls2 = sorted(fs.glob(f's3://{latest}/medium_range_mem2/nwm.t{hourlyrun}z.medium_range.channel*.nc'))\n",
    "urls3 = sorted(fs.glob(f's3://{latest}/medium_range_mem3/nwm.t{hourlyrun}z.medium_range.channel*.nc'))\n",
    "urls4 = sorted(fs.glob(f's3://{latest}/medium_range_mem4/nwm.t{hourlyrun}z.medium_range.channel*.nc'))\n",
    "urls5 = sorted(fs.glob(f's3://{latest}/medium_range_mem5/nwm.t{hourlyrun}z.medium_range.channel*.nc'))\n",
    "urls6 = sorted(fs.glob(f's3://{latest}/medium_range_mem6/nwm.t{hourlyrun}z.medium_range.channel*.nc'))\n",
    "urls7 = sorted(fs.glob(f's3://{latest}/medium_range_mem7/nwm.t{hourlyrun}z.medium_range.channel*.nc'))"
   ]
  },
  {
   "cell_type": "code",
   "execution_count": 6,
   "id": "9a70ee4d",
   "metadata": {},
   "outputs": [],
   "source": [
    "urls1=urls1[0:204]"
   ]
  },
  {
   "cell_type": "code",
   "execution_count": 7,
   "id": "54264ae5",
   "metadata": {},
   "outputs": [],
   "source": [
    "urls11=urls1[0:102]\n",
    "urls12=urls1[102:204]\n",
    "urls21=urls2[0:102]\n",
    "urls22=urls2[102:204]\n",
    "urls31=urls3[0:102]\n",
    "urls32=urls3[102:204]\n",
    "urls41=urls4[0:102]\n",
    "urls42=urls4[102:204]\n",
    "urls51=urls5[0:102]\n",
    "urls52=urls5[102:204]\n",
    "urls61=urls6[0:102]\n",
    "urls62=urls6[102:204]\n",
    "urls71=urls7[0:102]\n",
    "urls72=urls7[102:204]"
   ]
  },
  {
   "cell_type": "code",
   "execution_count": 8,
   "id": "b6eca3ec",
   "metadata": {},
   "outputs": [],
   "source": [
    "json_dir11 = './jsons11/'\n",
    "json_dir12 = './jsons12/'\n",
    "json_dir21 = './jsons21/'\n",
    "json_dir22 = './jsons22/'\n",
    "json_dir31 = './jsons31/'\n",
    "json_dir32 = './jsons32/'\n",
    "json_dir41 = './jsons41/'\n",
    "json_dir42 = './jsons42/'\n",
    "json_dir51 = './jsons51/'\n",
    "json_dir52 = './jsons52/'\n",
    "json_dir61 = './jsons61/'\n",
    "json_dir62 = './jsons62/'\n",
    "json_dir71 = './jsons71/'\n",
    "json_dir72 = './jsons72/'"
   ]
  },
  {
   "cell_type": "code",
   "execution_count": 9,
   "id": "ad2afdc9",
   "metadata": {},
   "outputs": [],
   "source": [
    "import os\n",
    "mydirs = ['./jsons11/', './jsons12/', './jsons21/', './jsons22/', './jsons31/', './jsons32/',\n",
    "         './jsons41/', './jsons42/', './jsons51/', './jsons52/', './jsons61/', './jsons62/',\n",
    "         './jsons71/', './jsons72/',]\n",
    "for items in mydirs:\n",
    "    if not os.path.exists(items):\n",
    "        os.mkdir(items)"
   ]
  },
  {
   "cell_type": "code",
   "execution_count": 10,
   "id": "f77c5a9a",
   "metadata": {},
   "outputs": [],
   "source": [
    "def delfiles(name):\n",
    "    dir = name\n",
    "    filelist = glob(os.path.join(dir, \"*\"))\n",
    "    for f in filelist:\n",
    "        os.remove(f)\n",
    "\n",
    "for d in mydirs:\n",
    "    delfiles(d)"
   ]
  },
  {
   "cell_type": "code",
   "execution_count": 11,
   "id": "e48eb22b",
   "metadata": {},
   "outputs": [],
   "source": [
    "json_dirs = [json_dir11, json_dir12, json_dir21, json_dir22, json_dir31, json_dir32, json_dir41,\n",
    "            json_dir42, json_dir51, json_dir52, json_dir61, json_dir62, json_dir71, json_dir72]"
   ]
  },
  {
   "cell_type": "markdown",
   "id": "42c61b1e",
   "metadata": {},
   "source": [
    "## Spin up a dask cluster and write out the jsons"
   ]
  },
  {
   "cell_type": "code",
   "execution_count": 12,
   "id": "74165a02",
   "metadata": {},
   "outputs": [],
   "source": [
    "def gen_json(u, json_dir):\n",
    "    fstem = Path(u).stem \n",
    "    outf = f'{json_dir}{fstem}.json'\n",
    "    with fs.open(u, **so) as infile:\n",
    "        h5chunks = SingleHdf5ToZarr(infile, u, inline_threshold=300)\n",
    "        with open(outf, 'wb') as f:\n",
    "            f.write(orjson.dumps(h5chunks.translate()));"
   ]
  },
  {
   "cell_type": "code",
   "execution_count": 13,
   "id": "0d309b0f",
   "metadata": {},
   "outputs": [],
   "source": [
    "from dask.distributed import Client, LocalCluster\n",
    "cluster = LocalCluster(n_workers=36) \n",
    "client = Client(cluster)  "
   ]
  },
  {
   "cell_type": "code",
   "execution_count": 14,
   "id": "85661ad8",
   "metadata": {},
   "outputs": [],
   "source": [
    "urls11 = [f\"s3://{url}\" for url in urls11]\n",
    "urls12 = [f\"s3://{url}\" for url in urls12]\n",
    "urls21 = [f\"s3://{url}\" for url in urls21]\n",
    "urls22 = [f\"s3://{url}\" for url in urls22]\n",
    "urls31 = [f\"s3://{url}\" for url in urls31]\n",
    "urls32 = [f\"s3://{url}\" for url in urls32]\n",
    "urls41 = [f\"s3://{url}\" for url in urls41]\n",
    "urls42 = [f\"s3://{url}\" for url in urls42]\n",
    "urls51 = [f\"s3://{url}\" for url in urls51]\n",
    "urls52 = [f\"s3://{url}\" for url in urls52]\n",
    "urls61 = [f\"s3://{url}\" for url in urls61]\n",
    "urls62 = [f\"s3://{url}\" for url in urls62]\n",
    "urls71 = [f\"s3://{url}\" for url in urls71]\n",
    "urls72 = [f\"s3://{url}\" for url in urls72]"
   ]
  },
  {
   "cell_type": "code",
   "execution_count": 15,
   "id": "abf56458",
   "metadata": {},
   "outputs": [],
   "source": [
    "urls = [urls11, urls12, urls21, urls22, urls31, urls32, urls41, urls42, urls51, urls52, urls61, urls62, urls71, urls72]"
   ]
  },
  {
   "cell_type": "code",
   "execution_count": 16,
   "id": "37d671f3",
   "metadata": {},
   "outputs": [],
   "source": [
    "so = dict(mode='rb', anon=True, default_fill_cache=False, default_cache_type='first')"
   ]
  },
  {
   "cell_type": "code",
   "execution_count": 17,
   "id": "b6d39117",
   "metadata": {},
   "outputs": [],
   "source": [
    "a = [dask.delayed(gen_json)(u,json_dirs[0]) for u in urls[0]] \n",
    "aa = [dask.delayed(gen_json)(u,json_dirs[1]) for u in urls[1]] \n",
    "b = [dask.delayed(gen_json)(u,json_dirs[2]) for u in urls[2]] \n",
    "bb = [dask.delayed(gen_json)(u,json_dirs[3]) for u in urls[3]] \n",
    "c = [dask.delayed(gen_json)(u,json_dirs[4]) for u in urls[4]] \n",
    "cc = [dask.delayed(gen_json)(u,json_dirs[5]) for u in urls[5]] \n",
    "d = [dask.delayed(gen_json)(u,json_dirs[6]) for u in urls[6]]\n",
    "dd = [dask.delayed(gen_json)(u,json_dirs[7]) for u in urls[7]] \n",
    "e = [dask.delayed(gen_json)(u,json_dirs[8]) for u in urls[8]] \n",
    "ee = [dask.delayed(gen_json)(u,json_dirs[9]) for u in urls[9]] \n",
    "f = [dask.delayed(gen_json)(u,json_dirs[10]) for u in urls[10]] \n",
    "ff = [dask.delayed(gen_json)(u,json_dirs[11]) for u in urls[11]] \n",
    "g = [dask.delayed(gen_json)(u,json_dirs[12]) for u in urls[12]] \n",
    "gg = [dask.delayed(gen_json)(u,json_dirs[13]) for u in urls[13]]"
   ]
  },
  {
   "cell_type": "code",
   "execution_count": 18,
   "id": "dafb04b1",
   "metadata": {},
   "outputs": [
    {
     "name": "stdout",
     "output_type": "stream",
     "text": [
      "CPU times: user 32.4 s, sys: 9.59 s, total: 42 s\n",
      "Wall time: 2min 56s\n"
     ]
    }
   ],
   "source": [
    "%%time\n",
    "_ = dask.compute(*a, *aa, *b, *bb, *c, *cc, *d, *dd, *e, *ee, *f, *ff, *g, *gg)"
   ]
  },
  {
   "cell_type": "code",
   "execution_count": 19,
   "id": "64c7e28f",
   "metadata": {},
   "outputs": [],
   "source": [
    "client.close() \n",
    "client.shutdown()"
   ]
  },
  {
   "cell_type": "markdown",
   "id": "5c7752a2",
   "metadata": {},
   "source": [
    "## Create 7 lists of json files - one for each ensemble member"
   ]
  },
  {
   "cell_type": "code",
   "execution_count": 20,
   "id": "45ce9619",
   "metadata": {},
   "outputs": [],
   "source": [
    "flist1 = sorted(glob('./jsons11/*.json'))\n",
    "flist2 = sorted(glob('./jsons12/*.json'))\n",
    "flist3 = sorted(glob('./jsons21/*.json'))\n",
    "flist4 = sorted(glob('./jsons22/*.json'))\n",
    "flist5 = sorted(glob('./jsons31/*.json'))\n",
    "flist6 = sorted(glob('./jsons32/*.json'))\n",
    "flist7 = sorted(glob('./jsons41/*.json'))\n",
    "flist8 = sorted(glob('./jsons42/*.json'))\n",
    "flist9 = sorted(glob('./jsons51/*.json'))\n",
    "flist10 = sorted(glob('./jsons52/*.json'))\n",
    "flist11 = sorted(glob('./jsons61/*.json'))\n",
    "flist12 = sorted(glob('./jsons62/*.json'))\n",
    "flist13 = sorted(glob('./jsons71/*.json'))\n",
    "flist14 = sorted(glob('./jsons72/*.json'))"
   ]
  },
  {
   "cell_type": "code",
   "execution_count": 21,
   "id": "b45ae9a0",
   "metadata": {},
   "outputs": [],
   "source": [
    "fl1 = flist1+flist2\n",
    "fl2 = flist3+flist4\n",
    "fl3 = flist5+flist6\n",
    "fl4 = flist7+flist8\n",
    "fl5 = flist9+flist10\n",
    "fl6 = flist11+flist12\n",
    "fl7 = flist13+flist14"
   ]
  },
  {
   "cell_type": "code",
   "execution_count": 22,
   "id": "8079641b",
   "metadata": {},
   "outputs": [],
   "source": [
    "flist = [fl1, fl2, fl3, fl4, fl5, fl6, fl7]"
   ]
  },
  {
   "cell_type": "markdown",
   "id": "d316bc4c",
   "metadata": {},
   "source": [
    "## Get the feature ids for the gauge sites and merge them with the lat/lon info from the river shapefile"
   ]
  },
  {
   "cell_type": "code",
   "execution_count": 23,
   "id": "5f1980f7",
   "metadata": {},
   "outputs": [],
   "source": [
    "#sfile = gpd.read_file('./test/shapefile/GRR/nwm_reaches_conus_2.shp')\n",
    "sfile = gpd.read_file('http://weather.eas.cmich.edu/nwm/shp/grr_shp.zip')\n",
    "#allfeats=sfile['feature_id'].to_list()\n",
    "fids=pd.read_parquet('http://weather.eas.cmich.edu/nwm/feature_ids.parquet')\n",
    "fids['gage_id'] = fids['gage_id'].str.decode('utf-8')\n",
    "fids = fids.rename(columns={'gage_id': 'ID'})\n",
    "feats=fids['feature_id'].to_list()\n",
    "fids.index.rename('None', inplace=True)\n",
    "merged=pd.merge(sfile,fids, on='feature_id', how='inner')"
   ]
  },
  {
   "cell_type": "markdown",
   "id": "1caeca26",
   "metadata": {},
   "source": [
    "## Create a single json file for each ensemble member, use jsons to create a list of 7 xarrays"
   ]
  },
  {
   "cell_type": "code",
   "execution_count": 24,
   "id": "f17a01ad",
   "metadata": {},
   "outputs": [],
   "source": [
    "def getdata(files, memnum):\n",
    "\n",
    "    global times\n",
    "    \n",
    "    mzz = MultiZarrToZarr(\n",
    "        files, \n",
    "        remote_protocol='s3',\n",
    "        remote_options={'anon':True},\n",
    "        xarray_open_kwargs={\n",
    "            'decode_cf' : False,\n",
    "            'mask_and_scale' : False,\n",
    "            'decode_times' : False,\n",
    "            'use_cftime' : False,\n",
    "            'drop_variables': ['reference_time', 'crs'],\n",
    "            'decode_coords' : False\n",
    "        },\n",
    "        xarray_concat_args={\n",
    "            \"join\": \"override\",\n",
    "            \"combine_attrs\": \"override\",\n",
    "            \"dim\": \"time\"\n",
    "        }\n",
    "    )\n",
    "\n",
    "    rpath = '/home/baxte1ma/notebooks/Real-time NWM/nwm_medium'+str(memnum)+'.json'\n",
    "    \n",
    "    if os.path.isfile(rpath):\n",
    "        os.remove(rpath)\n",
    "    else:    \n",
    "        pass\n",
    "    \n",
    "    local_consolidated_json = rpath\n",
    "    mzz.translate(local_consolidated_json)\n",
    "\n",
    "    s_opts = {'requester_pays':True, 'skip_instance_cache':True}\n",
    "    r_opts = {'anon':True}\n",
    "    fs = fsspec.filesystem(\"reference\", fo=rpath, ref_storage_args=s_opts,\n",
    "                       remote_protocol='s3', remote_options=r_opts)\n",
    "    m = fs.get_mapper(\"\")\n",
    "    ds = xr.open_dataset(m, engine=\"zarr\", backend_kwargs={'consolidated':False}, chunks=None)\n",
    "    times=ds['time']\n",
    "    dsnew = ds['streamflow']\n",
    "    dsnew2 = dsnew.sel(feature_id=feats)\n",
    "\n",
    "    return(dsnew2)"
   ]
  },
  {
   "cell_type": "code",
   "execution_count": 25,
   "id": "acac09f8",
   "metadata": {},
   "outputs": [
    {
     "name": "stdout",
     "output_type": "stream",
     "text": [
      "CPU times: user 10.2 s, sys: 623 ms, total: 10.8 s\n",
      "Wall time: 13.2 s\n"
     ]
    }
   ],
   "source": [
    "%%time\n",
    "dsall=[]\n",
    "\n",
    "for i in range(0,7):\n",
    "    ds=getdata(flist[i],i)\n",
    "    dsall.append(ds)"
   ]
  },
  {
   "cell_type": "markdown",
   "id": "518bf1ba",
   "metadata": {},
   "source": [
    "## Combine the 7 xarrays into one xarray"
   ]
  },
  {
   "cell_type": "code",
   "execution_count": 26,
   "id": "d45bd7cf",
   "metadata": {},
   "outputs": [
    {
     "name": "stdout",
     "output_type": "stream",
     "text": [
      "CPU times: user 1min 3s, sys: 4.42 s, total: 1min 7s\n",
      "Wall time: 1min 29s\n"
     ]
    }
   ],
   "source": [
    "%%time\n",
    "\n",
    "dsout = xr.concat(dsall, dim= 'number')\n",
    "nmems = len(dsout.number.values)\n",
    "dsout['number'] = np.arange(0,nmems)"
   ]
  },
  {
   "cell_type": "markdown",
   "id": "c3fbbfc2",
   "metadata": {},
   "source": [
    "## Output the NWM forecast time weighted ensemble mean to pandas and a parquet file"
   ]
  },
  {
   "cell_type": "code",
   "execution_count": 43,
   "id": "c975c144",
   "metadata": {},
   "outputs": [],
   "source": [
    "mean = (dsout[0,:,:]*.35)+(dsout[1,:,:]*.25)+(dsout[2,:,:]*.15)+(dsout[3,:,:]*.10)+\\\n",
    "    (dsout[4,:,:]*.05)+(dsout[5,:,:]*.05)+(dsout[6,:,:]*.05)"
   ]
  },
  {
   "cell_type": "code",
   "execution_count": 58,
   "id": "97ad10fc",
   "metadata": {},
   "outputs": [],
   "source": [
    "mean_df=mean.to_dataframe()\n",
    "mean_df.drop(['number'], axis=1, inplace=True)"
   ]
  },
  {
   "cell_type": "code",
   "execution_count": 60,
   "id": "1c7d3a82",
   "metadata": {},
   "outputs": [],
   "source": [
    "mean_df.to_parquet('realtimeNWMmean.parquet')"
   ]
  },
  {
   "cell_type": "markdown",
   "id": "9b942187",
   "metadata": {},
   "source": [
    "## Output the NWM forecast data to pandas and a parquet file"
   ]
  },
  {
   "cell_type": "code",
   "execution_count": 27,
   "id": "615944ac",
   "metadata": {},
   "outputs": [],
   "source": [
    "dsout_df=dsout.to_dataframe()\n",
    "dsout_df.to_parquet('realtimeNWM.parquet')"
   ]
  },
  {
   "cell_type": "markdown",
   "id": "10aa7355",
   "metadata": {},
   "source": [
    "## Get model output times"
   ]
  },
  {
   "cell_type": "code",
   "execution_count": 29,
   "id": "39610550",
   "metadata": {},
   "outputs": [],
   "source": [
    "runtime = times[0] - np.timedelta64(1, 'h')\n",
    "yest = datetime.today() - timedelta(hours = 1 )\n",
    "ts = pd.to_datetime(str(runtime.values)) \n",
    "d=ts.strftime('NWM %m-%d-%y %H UTC Forecast for')\n",
    "timesnew=pd.to_datetime(times.values)"
   ]
  },
  {
   "cell_type": "markdown",
   "id": "32133336",
   "metadata": {},
   "source": [
    "## Get station names"
   ]
  },
  {
   "cell_type": "code",
   "execution_count": 30,
   "id": "7d06c4ae",
   "metadata": {},
   "outputs": [],
   "source": [
    "stns=pd.read_csv('http://weather.eas.cmich.edu/nwm/stationlatlon.csv')\n",
    "fids = fids.astype({\"ID\":int})\n",
    "merge2=pd.merge(stns,fids, on='ID', how='inner')\n",
    "stnnm=merge2.loc[merge2['feature_id'] == dsout.feature_id[0].values].NAME[0]"
   ]
  },
  {
   "cell_type": "markdown",
   "id": "559a59d8",
   "metadata": {},
   "source": [
    "## Open the m-climate and o-climate files, find unique dates from model that we need from these files"
   ]
  },
  {
   "cell_type": "code",
   "execution_count": 31,
   "id": "abaead3f",
   "metadata": {},
   "outputs": [],
   "source": [
    "mclim=pd.read_parquet('http://weather.eas.cmich.edu/nwm/nwm_gauge_stats.parquet')\n",
    "oclim=pd.read_parquet('http://weather.eas.cmich.edu/nwm/obs_gauge_stats.parquet')"
   ]
  },
  {
   "cell_type": "code",
   "execution_count": 32,
   "id": "7d16cd77",
   "metadata": {},
   "outputs": [],
   "source": [
    "uniqds=timesnew[:].map(lambda t: t.date()).unique()\n",
    "uniq12s=timesnew[timesnew[:].map(lambda t: t.time().hour==12)]"
   ]
  },
  {
   "cell_type": "code",
   "execution_count": 33,
   "id": "2d6fd273",
   "metadata": {},
   "outputs": [],
   "source": [
    "mdlist=[]\n",
    "mdlistall=[]\n",
    "for f in range(0,9):\n",
    "    mdlist=uniqds[f].month,uniqds[f].day\n",
    "    mdlistall.append(mdlist)\n",
    "    \n",
    "months=[row[0] for row in mdlistall]\n",
    "days=[row[1] for row in mdlistall]"
   ]
  },
  {
   "cell_type": "markdown",
   "id": "05bc7556",
   "metadata": {},
   "source": [
    "## Get the data from the m-climate and o-climate files for the unique dates, save as pandas"
   ]
  },
  {
   "cell_type": "code",
   "execution_count": 34,
   "id": "e90f5233",
   "metadata": {},
   "outputs": [],
   "source": [
    "mclimlist=[]\n",
    "for f in range(0,9):\n",
    "    mclimtemp=mclim[(mclim.index.get_level_values('month') == months[f]) & (mclim.index.get_level_values('day') == days[f])]\n",
    "    mclimlist.append(mclimtemp)\n",
    "mclimlist = pd.concat(mclimlist)\n",
    "\n",
    "oclimlist=[]\n",
    "for f in range(0,9):\n",
    "    oclimtemp=oclim[(oclim.index.get_level_values('month') == months[f]) & (oclim.index.get_level_values('day') == days[f])]\n",
    "    oclimlist.append(oclimtemp)\n",
    "oclimlist = pd.concat(oclimlist)"
   ]
  },
  {
   "cell_type": "markdown",
   "id": "f6373eb6",
   "metadata": {},
   "source": [
    "## Set up xarrays that are filled with NaN - as we will only have data for each day, not hourly"
   ]
  },
  {
   "cell_type": "code",
   "execution_count": 35,
   "id": "f9ed57da",
   "metadata": {},
   "outputs": [],
   "source": [
    "blankm = np.empty([204,154])\n",
    "blankm[:,:] = np.nan\n",
    "\n",
    "blanko = np.empty([204,154])\n",
    "blanko[:,:] = np.nan\n",
    "\n",
    "unames=mclimlist.index.get_level_values('NAME').unique()"
   ]
  },
  {
   "cell_type": "code",
   "execution_count": 36,
   "id": "020664a5",
   "metadata": {},
   "outputs": [],
   "source": [
    "dao = xr.DataArray(\n",
    "    data=blanko,\n",
    "    dims=[\"time\", \"NAME\"],\n",
    "    coords=dict(time=times,\n",
    "               NAME=unames,))\n",
    "\n",
    "dam = xr.DataArray(\n",
    "    data=blankm,\n",
    "    dims=[\"time\", \"NAME\"],\n",
    "    coords=dict(time=times,\n",
    "               NAME=unames,))"
   ]
  },
  {
   "cell_type": "markdown",
   "id": "bc338200",
   "metadata": {},
   "source": [
    "## Fill the xarrays with the m-climate and o-climate data from pandas"
   ]
  },
  {
   "cell_type": "code",
   "execution_count": 37,
   "id": "0a64db17",
   "metadata": {},
   "outputs": [],
   "source": [
    "for s in range(0,154):\n",
    "    for f in range(0,9):\n",
    "        dam.loc[uniq12s[f], unames[s]] = mclimlist.loc[mclimlist.index.get_level_values(0)[s]]['streamflow','q50'].values[f]\n",
    "    \n",
    "for s in range(0,154):\n",
    "    for f in range(0,9):\n",
    "        dao.loc[uniq12s[f], unames[s]] = oclimlist.loc[oclimlist.index.get_level_values(0)[s]]['streamflow','q50'].values[f]    "
   ]
  },
  {
   "cell_type": "markdown",
   "id": "269a58ef",
   "metadata": {},
   "source": [
    "## Use multiprocessing to make the plots simultaneously"
   ]
  },
  {
   "cell_type": "code",
   "execution_count": 39,
   "id": "f2954e99",
   "metadata": {},
   "outputs": [
    {
     "name": "stdout",
     "output_type": "stream",
     "text": [
      "CPU times: user 126 ms, sys: 1.23 s, total: 1.35 s\n",
      "Wall time: 5.13 s\n"
     ]
    }
   ],
   "source": [
    "%%time\n",
    "\n",
    "x=times\n",
    "\n",
    "def main():\n",
    "    pool = Pool()\n",
    "    num_figs = 154\n",
    "    input = zip(np.array(range(0,num_figs)),range(num_figs))\n",
    "    pool.map(plot, input)\n",
    "    pool.close()  \n",
    "    pool.join() \n",
    "\n",
    "def plot(args):\n",
    "    num, i = args\n",
    "    mpl.rcParams['path.simplify'] = True\n",
    "    mpl.rcParams['path.simplify_threshold'] = 1.0\n",
    "    mplstyle.use('fast')\n",
    "    fig,ax1=plt.subplots(figsize=(18,12))\n",
    "    \n",
    "    val = dsout.feature_id[num].values\n",
    "    stnnm=merge2.loc[merge2['feature_id'] == val]\n",
    "    stnnm2=stnnm.NAME.values[0]\n",
    "\n",
    "    d1 = dsout[0,:,num]\n",
    "    d2 = dsout[1,:,num]\n",
    "    d3 = dsout[2,:,num]\n",
    "    d4 = dsout[3,:,num]\n",
    "    d5 = dsout[4,:,num]\n",
    "    d6 = dsout[5,:,num]\n",
    "    d7 = dsout[6,:,num]\n",
    "    \n",
    "#    mean = dsout[:,:,num].mean(axis=0)\n",
    "\n",
    "#    weights=np.array([.35,.25,.15,.10,.5,.5,.5]*dsout[])\n",
    "#    weights.name=weights\n",
    "\n",
    "    mean = (dsout[0,:,num]*.35)+(dsout[1,:,num]*.25)+(dsout[2,:,num]*.15)+(dsout[3,:,num]*.10)+\\\n",
    "    (dsout[4,:,num]*.05)+(dsout[5,:,num]*.05)+(dsout[6,:,num]*.05)\n",
    "    \n",
    "    dam2=dam[:,num]\n",
    "    dammask = np.isfinite(dam2)\n",
    "    \n",
    "    dao2=dao[:,num]\n",
    "    daomask = np.isfinite(dao2)\n",
    "    \n",
    "    ax1.plot(x, d1, lw=6, label='Current GFS Precip', color='#005a32')\n",
    "    ax1.plot(x, d2, lw=6, label='-6 hr GFS Precip', color='#238b45')\n",
    "    ax1.plot(x, d3, lw=6, label='-12 hr GFS Precip', color='#41ab5d')\n",
    "    ax1.plot(x, d4, lw=6, label='-18 hr GFS Precip', color='#74c476')\n",
    "    ax1.plot(x, d5, lw=6, label='-24 hr GFS Precip', color='#a1d99b')\n",
    "    ax1.plot(x, d6, lw=6, label='-30 hr GFS Precip', color='#c7e9c0')\n",
    "    ax1.plot(x, d7, lw=6, label='-36 hr GFS Precip', color='#edf8e9')\n",
    "    ax1.plot(x, mean, lw=8, label='Time Weighted Mean', color='k')\n",
    "    \n",
    "    ax1.plot(x[dammask], dam2[dammask], lw=8, label='M-Climate', color='b', marker='o', markersize=12)\n",
    "    ax1.plot(x[daomask], dao2[daomask], lw=8, label='O-Climate', color='r', marker='o', markersize=12)\n",
    "    \n",
    "    \n",
    "    ax1.legend(prop={'size':10})\n",
    "\n",
    "\n",
    "    ax1.xaxis.set_major_formatter(mdates.DateFormatter(\"%m-%d\"))\n",
    "\n",
    "    \n",
    "    ax1.set_ylabel('$m^3/s$', fontsize=25)\n",
    "    ax1.grid(True)\n",
    "    fig.patch.set_facecolor('antiquewhite')\n",
    "\n",
    "    plt.setp(ax1.get_xticklabels(), fontsize=25) \n",
    "    plt.setp(ax1.get_yticklabels(), fontsize=25) \n",
    "    title_string=d                \n",
    "    plt.title(stnnm2, fontsize=30)\n",
    "    plt.suptitle(title_string, fontsize=30)\n",
    "\n",
    "    fileout='./test/temp_fig_%i.png' % i\n",
    "#    fig.savefig(fileout, dpi=100, bbox_inches=\"tight\", pad_inches=0.5)\n",
    "    fig.savefig(fileout, dpi=100)\n",
    "    \n",
    "    img = cv2.imread(fileout, 1)\n",
    "    img_inter = imutils.resize(img, width=1571)\n",
    "    cv2.imwrite(fileout, img_inter)\n",
    "\n",
    "main()"
   ]
  },
  {
   "cell_type": "code",
   "execution_count": 40,
   "id": "31895212",
   "metadata": {},
   "outputs": [
    {
     "name": "stdout",
     "output_type": "stream",
     "text": [
      "./test/temp_fig_00.png\n",
      "./test/temp_fig_01.png\n",
      "./test/temp_fig_02.png\n",
      "./test/temp_fig_03.png\n",
      "./test/temp_fig_04.png\n",
      "./test/temp_fig_05.png\n",
      "./test/temp_fig_06.png\n",
      "./test/temp_fig_07.png\n",
      "./test/temp_fig_08.png\n",
      "./test/temp_fig_09.png\n",
      "./test/temp_fig_0.png\n",
      "./test/temp_fig_100.png\n",
      "./test/temp_fig_101.png\n",
      "./test/temp_fig_102.png\n",
      "./test/temp_fig_103.png\n",
      "./test/temp_fig_104.png\n",
      "./test/temp_fig_105.png\n",
      "./test/temp_fig_106.png\n",
      "./test/temp_fig_107.png\n",
      "./test/temp_fig_108.png\n",
      "./test/temp_fig_109.png\n",
      "./test/temp_fig_10.png\n",
      "./test/temp_fig_110.png\n",
      "./test/temp_fig_111.png\n",
      "./test/temp_fig_112.png\n",
      "./test/temp_fig_113.png\n",
      "./test/temp_fig_114.png\n",
      "./test/temp_fig_115.png\n",
      "./test/temp_fig_116.png\n",
      "./test/temp_fig_117.png\n",
      "./test/temp_fig_118.png\n",
      "./test/temp_fig_119.png\n",
      "./test/temp_fig_11.png\n",
      "./test/temp_fig_120.png\n",
      "./test/temp_fig_121.png\n",
      "./test/temp_fig_122.png\n",
      "./test/temp_fig_123.png\n",
      "./test/temp_fig_124.png\n",
      "./test/temp_fig_125.png\n",
      "./test/temp_fig_126.png\n",
      "./test/temp_fig_127.png\n",
      "./test/temp_fig_128.png\n",
      "./test/temp_fig_129.png\n",
      "./test/temp_fig_12.png\n",
      "./test/temp_fig_130.png\n",
      "./test/temp_fig_131.png\n",
      "./test/temp_fig_132.png\n",
      "./test/temp_fig_133.png\n",
      "./test/temp_fig_134.png\n",
      "./test/temp_fig_135.png\n",
      "./test/temp_fig_136.png\n",
      "./test/temp_fig_137.png\n",
      "./test/temp_fig_138.png\n",
      "./test/temp_fig_139.png\n",
      "./test/temp_fig_13.png\n",
      "./test/temp_fig_140.png\n",
      "./test/temp_fig_141.png\n",
      "./test/temp_fig_142.png\n",
      "./test/temp_fig_143.png\n",
      "./test/temp_fig_144.png\n",
      "./test/temp_fig_145.png\n",
      "./test/temp_fig_146.png\n",
      "./test/temp_fig_147.png\n",
      "./test/temp_fig_148.png\n",
      "./test/temp_fig_149.png\n",
      "./test/temp_fig_14.png\n",
      "./test/temp_fig_150.png\n",
      "./test/temp_fig_151.png\n",
      "./test/temp_fig_152.png\n",
      "./test/temp_fig_153.png\n",
      "./test/temp_fig_15.png\n",
      "./test/temp_fig_16.png\n",
      "./test/temp_fig_17.png\n",
      "./test/temp_fig_18.png\n",
      "./test/temp_fig_19.png\n",
      "./test/temp_fig_1.png\n",
      "./test/temp_fig_20.png\n",
      "./test/temp_fig_21.png\n",
      "./test/temp_fig_22.png\n",
      "./test/temp_fig_23.png\n",
      "./test/temp_fig_24.png\n",
      "./test/temp_fig_25.png\n",
      "./test/temp_fig_26.png\n",
      "./test/temp_fig_27.png\n",
      "./test/temp_fig_28.png\n",
      "./test/temp_fig_29.png\n",
      "./test/temp_fig_2.png\n",
      "./test/temp_fig_30.png\n",
      "./test/temp_fig_31.png\n",
      "./test/temp_fig_32.png\n",
      "./test/temp_fig_33.png\n",
      "./test/temp_fig_34.png\n",
      "./test/temp_fig_35.png\n",
      "./test/temp_fig_36.png\n",
      "./test/temp_fig_37.png\n",
      "./test/temp_fig_38.png\n",
      "./test/temp_fig_39.png\n",
      "./test/temp_fig_3.png\n",
      "./test/temp_fig_40.png\n",
      "./test/temp_fig_41.png\n",
      "./test/temp_fig_42.png\n",
      "./test/temp_fig_43.png\n",
      "./test/temp_fig_44.png\n",
      "./test/temp_fig_45.png\n",
      "./test/temp_fig_46.png\n",
      "./test/temp_fig_47.png\n",
      "./test/temp_fig_48.png\n",
      "./test/temp_fig_49.png\n",
      "./test/temp_fig_4.png\n",
      "./test/temp_fig_50.png\n",
      "./test/temp_fig_51.png\n",
      "./test/temp_fig_52.png\n",
      "./test/temp_fig_53.png\n",
      "./test/temp_fig_54.png\n",
      "./test/temp_fig_55.png\n",
      "./test/temp_fig_56.png\n",
      "./test/temp_fig_57.png\n",
      "./test/temp_fig_58.png\n",
      "./test/temp_fig_59.png\n",
      "./test/temp_fig_5.png\n",
      "./test/temp_fig_60.png\n",
      "./test/temp_fig_61.png\n",
      "./test/temp_fig_62.png\n",
      "./test/temp_fig_63.png\n",
      "./test/temp_fig_64.png\n",
      "./test/temp_fig_65.png\n",
      "./test/temp_fig_66.png\n",
      "./test/temp_fig_67.png\n",
      "./test/temp_fig_68.png\n",
      "./test/temp_fig_69.png\n",
      "./test/temp_fig_6.png\n",
      "./test/temp_fig_70.png\n",
      "./test/temp_fig_71.png\n",
      "./test/temp_fig_72.png\n",
      "./test/temp_fig_73.png\n",
      "./test/temp_fig_74.png\n",
      "./test/temp_fig_75.png\n",
      "./test/temp_fig_76.png\n",
      "./test/temp_fig_77.png\n",
      "./test/temp_fig_78.png\n",
      "./test/temp_fig_79.png\n",
      "./test/temp_fig_7.png\n",
      "./test/temp_fig_80.png\n",
      "./test/temp_fig_81.png\n",
      "./test/temp_fig_82.png\n",
      "./test/temp_fig_83.png\n",
      "./test/temp_fig_84.png\n",
      "./test/temp_fig_85.png\n",
      "./test/temp_fig_86.png\n",
      "./test/temp_fig_87.png\n",
      "./test/temp_fig_88.png\n",
      "./test/temp_fig_89.png\n",
      "./test/temp_fig_8.png\n",
      "./test/temp_fig_90.png\n",
      "./test/temp_fig_91.png\n",
      "./test/temp_fig_92.png\n",
      "./test/temp_fig_93.png\n",
      "./test/temp_fig_94.png\n",
      "./test/temp_fig_95.png\n",
      "./test/temp_fig_96.png\n",
      "./test/temp_fig_97.png\n",
      "./test/temp_fig_98.png\n",
      "./test/temp_fig_99.png\n",
      "./test/temp_fig_9.png\n"
     ]
    }
   ],
   "source": [
    "!tar -czvf tseries.tar.gz ./test/temp*"
   ]
  },
  {
   "cell_type": "code",
   "execution_count": null,
   "id": "22342f60",
   "metadata": {},
   "outputs": [],
   "source": []
  }
 ],
 "metadata": {
  "kernelspec": {
   "display_name": "Python 3 (ipykernel)",
   "language": "python",
   "name": "python3"
  },
  "language_info": {
   "codemirror_mode": {
    "name": "ipython",
    "version": 3
   },
   "file_extension": ".py",
   "mimetype": "text/x-python",
   "name": "python",
   "nbconvert_exporter": "python",
   "pygments_lexer": "ipython3",
   "version": "3.9.12"
  }
 },
 "nbformat": 4,
 "nbformat_minor": 5
}
